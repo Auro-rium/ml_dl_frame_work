{
 "cells": [
  {
   "cell_type": "code",
   "execution_count": 3,
   "id": "294636ee",
   "metadata": {},
   "outputs": [
    {
     "data": {
      "text/plain": [
       "'2.8.0+cpu'"
      ]
     },
     "execution_count": 3,
     "metadata": {},
     "output_type": "execute_result"
    }
   ],
   "source": [
    "import torch\n",
    "torch.__version__"
   ]
  },
  {
   "cell_type": "code",
   "execution_count": 6,
   "id": "b231f94e",
   "metadata": {},
   "outputs": [
    {
     "data": {
      "text/plain": [
       "0"
      ]
     },
     "execution_count": 6,
     "metadata": {},
     "output_type": "execute_result"
    }
   ],
   "source": [
    "scalar = torch.tensor(7)\n",
    "scalar #tensor(7)\n",
    "scalar.item()  # get the value as a standard Python number\n",
    "scalar.ndim  # number of dimensions"
   ]
  },
  {
   "cell_type": "code",
   "execution_count": 11,
   "id": "20c62519",
   "metadata": {},
   "outputs": [
    {
     "data": {
      "text/plain": [
       "torch.Size([2])"
      ]
     },
     "execution_count": 11,
     "metadata": {},
     "output_type": "execute_result"
    }
   ],
   "source": [
    "vector = torch.tensor([7, 7])\n",
    "vector\n",
    "vector.ndim\n",
    "vector.shape"
   ]
  },
  {
   "cell_type": "code",
   "execution_count": 13,
   "id": "1e375c64",
   "metadata": {},
   "outputs": [
    {
     "data": {
      "text/plain": [
       "torch.Size([2, 2])"
      ]
     },
     "execution_count": 13,
     "metadata": {},
     "output_type": "execute_result"
    }
   ],
   "source": [
    "MATRIX = torch.tensor([[7, 8], [9, 10]])\n",
    "MATRIX\n",
    "MATRIX.ndim\n",
    "MATRIX.shape\n"
   ]
  },
  {
   "cell_type": "code",
   "execution_count": 14,
   "id": "4e418901",
   "metadata": {},
   "outputs": [
    {
     "data": {
      "text/plain": [
       "torch.Size([1, 3, 3])"
      ]
     },
     "execution_count": 14,
     "metadata": {},
     "output_type": "execute_result"
    }
   ],
   "source": [
    "TENSOR = torch.tensor([[[1, 2, 3],[3,6,9],[2,4,5]]])\n",
    "TENSOR\n",
    "TENSOR.ndim\n",
    "TENSOR.shape"
   ]
  },
  {
   "cell_type": "code",
   "execution_count": 15,
   "id": "336d278d",
   "metadata": {},
   "outputs": [
    {
     "data": {
      "text/plain": [
       "(tensor([[0.9419, 0.0329, 0.1477, 0.5212],\n",
       "         [0.1295, 0.7043, 0.0444, 0.9245],\n",
       "         [0.9763, 0.9775, 0.5790, 0.0414]]),\n",
       " torch.float32)"
      ]
     },
     "execution_count": 15,
     "metadata": {},
     "output_type": "execute_result"
    }
   ],
   "source": [
    "random_tensor = torch.rand(size=(3, 4))\n",
    "random_tensor , random_tensor.dtype"
   ]
  },
  {
   "cell_type": "code",
   "execution_count": 18,
   "id": "e9113e08",
   "metadata": {},
   "outputs": [
    {
     "data": {
      "text/plain": [
       "(tensor([[[0.4281, 0.5122, 0.6818],\n",
       "          [0.6864, 0.6126, 0.9871],\n",
       "          [0.9530, 0.3129, 0.6402],\n",
       "          ...,\n",
       "          [0.7328, 0.6350, 0.3570],\n",
       "          [0.4193, 0.9627, 0.6935],\n",
       "          [0.7267, 0.9112, 0.2421]],\n",
       " \n",
       "         [[0.0285, 0.4959, 0.6729],\n",
       "          [0.9430, 0.5625, 0.6883],\n",
       "          [0.8451, 0.7264, 0.5212],\n",
       "          ...,\n",
       "          [0.8736, 0.5322, 0.1667],\n",
       "          [0.6863, 0.8426, 0.9987],\n",
       "          [0.8793, 0.2717, 0.5782]],\n",
       " \n",
       "         [[0.3960, 0.1882, 0.2127],\n",
       "          [0.8635, 0.8619, 0.4822],\n",
       "          [0.3341, 0.5941, 0.5287],\n",
       "          ...,\n",
       "          [0.8217, 0.8998, 0.2808],\n",
       "          [0.4490, 0.0727, 0.9813],\n",
       "          [0.5607, 0.8074, 0.1374]],\n",
       " \n",
       "         ...,\n",
       " \n",
       "         [[0.0246, 0.7662, 0.2127],\n",
       "          [0.4401, 0.0234, 0.8329],\n",
       "          [0.4698, 0.2012, 0.4085],\n",
       "          ...,\n",
       "          [0.9855, 0.0220, 0.2872],\n",
       "          [0.1180, 0.8902, 0.5153],\n",
       "          [0.2850, 0.4645, 0.0919]],\n",
       " \n",
       "         [[0.0218, 0.8354, 0.7414],\n",
       "          [0.6071, 0.6318, 0.1146],\n",
       "          [0.3247, 0.4285, 0.3044],\n",
       "          ...,\n",
       "          [0.0777, 0.2886, 0.4920],\n",
       "          [0.8959, 0.1572, 0.4213],\n",
       "          [0.0576, 0.1223, 0.3581]],\n",
       " \n",
       "         [[0.1917, 0.5338, 0.0542],\n",
       "          [0.0043, 0.8696, 0.7431],\n",
       "          [0.2826, 0.2943, 0.5496],\n",
       "          ...,\n",
       "          [0.7160, 0.1827, 0.8528],\n",
       "          [0.5786, 0.4930, 0.7168],\n",
       "          [0.7083, 0.7110, 0.3552]]]),\n",
       " 3,\n",
       " torch.float32)"
      ]
     },
     "execution_count": 18,
     "metadata": {},
     "output_type": "execute_result"
    }
   ],
   "source": [
    "# Create a random tensor of size (224, 224, 3)\n",
    "random_image_size_tensor = torch.rand(size=(224, 224, 3))\n",
    "random_image_size_tensor, random_image_size_tensor.ndim , random_image_size_tensor.dtype"
   ]
  },
  {
   "cell_type": "code",
   "execution_count": 19,
   "id": "a4beea81",
   "metadata": {},
   "outputs": [
    {
     "data": {
      "text/plain": [
       "(tensor([[0., 0., 0., 0.],\n",
       "         [0., 0., 0., 0.],\n",
       "         [0., 0., 0., 0.]]),\n",
       " 2,\n",
       " torch.float32)"
      ]
     },
     "execution_count": 19,
     "metadata": {},
     "output_type": "execute_result"
    }
   ],
   "source": [
    "zeroes = torch.zeros(size=(3, 4))\n",
    "zeroes, zeroes.ndim, zeroes.dtype"
   ]
  },
  {
   "cell_type": "code",
   "execution_count": 21,
   "id": "1c416cfe",
   "metadata": {},
   "outputs": [
    {
     "data": {
      "text/plain": [
       "(tensor([[1., 1., 1., 1.],\n",
       "         [1., 1., 1., 1.],\n",
       "         [1., 1., 1., 1.]]),\n",
       " torch.float32,\n",
       " 2)"
      ]
     },
     "execution_count": 21,
     "metadata": {},
     "output_type": "execute_result"
    }
   ],
   "source": [
    "# Create a tensor of all ones\n",
    "ones = torch.ones(size=(3, 4))\n",
    "ones, ones.dtype , ones.ndim"
   ]
  },
  {
   "cell_type": "code",
   "execution_count": 22,
   "id": "64531643",
   "metadata": {},
   "outputs": [
    {
     "name": "stderr",
     "output_type": "stream",
     "text": [
      "/tmp/ipykernel_37516/1400445458.py:1: UserWarning: torch.range is deprecated and will be removed in a future release because its behavior is inconsistent with Python's range builtin. Instead, use torch.arange, which produces values in [start, end).\n",
      "  zero_to_ten_error = torch.range(0,10)\n"
     ]
    },
    {
     "data": {
      "text/plain": [
       "tensor([0, 1, 2, 3, 4, 5, 6, 7, 8, 9])"
      ]
     },
     "execution_count": 22,
     "metadata": {},
     "output_type": "execute_result"
    }
   ],
   "source": [
    "zero_to_ten_error = torch.range(0,10)\n",
    "\n",
    "zero_to_ten = torch.arange(0, 10,1)\n",
    "zero_to_ten"
   ]
  },
  {
   "cell_type": "code",
   "execution_count": 23,
   "id": "9c95103b",
   "metadata": {},
   "outputs": [
    {
     "data": {
      "text/plain": [
       "tensor([0, 0, 0, 0, 0, 0, 0, 0, 0, 0])"
      ]
     },
     "execution_count": 23,
     "metadata": {},
     "output_type": "execute_result"
    }
   ],
   "source": [
    "ten_zeroes = torch.zeros_like(input=zero_to_ten )\n",
    "ten_zeroes"
   ]
  },
  {
   "cell_type": "code",
   "execution_count": 29,
   "id": "c5b2afe5",
   "metadata": {},
   "outputs": [
    {
     "data": {
      "text/plain": [
       "(torch.Size([3]), torch.float32, 1, device(type='cpu'))"
      ]
     },
     "execution_count": 29,
     "metadata": {},
     "output_type": "execute_result"
    }
   ],
   "source": [
    "float_32_tensor = torch.tensor([1.0, 2.0, 3.0], \n",
    "                               dtype=None,\n",
    "                               device=None,\n",
    "                               requires_grad=False)\n",
    "float_32_tensor.shape, float_32_tensor.dtype, float_32_tensor.ndim , float_32_tensor.device"
   ]
  },
  {
   "cell_type": "code",
   "execution_count": 30,
   "id": "b4f680c6",
   "metadata": {},
   "outputs": [
    {
     "data": {
      "text/plain": [
       "torch.float16"
      ]
     },
     "execution_count": 30,
     "metadata": {},
     "output_type": "execute_result"
    }
   ],
   "source": [
    "float_16_tensor = torch.tensor([3.0, 6.0, 9.0],\n",
    "                               dtype=torch.float16) # torch.half would also work\n",
    "\n",
    "float_16_tensor.dtype"
   ]
  },
  {
   "cell_type": "code",
   "execution_count": 32,
   "id": "048ddc6c",
   "metadata": {},
   "outputs": [
    {
     "name": "stdout",
     "output_type": "stream",
     "text": [
      "tensor([[0.1740, 0.9602, 0.8409, 0.3791],\n",
      "        [0.6733, 0.2567, 0.8758, 0.9391],\n",
      "        [0.1460, 0.3981, 0.9857, 0.8893]])\n",
      "Shape of tensor: torch.Size([3, 4])\n",
      "Datatype of tensor: torch.float32\n",
      "Device tensor is stored on: cpu\n"
     ]
    }
   ],
   "source": [
    "some_tensor = torch.rand(3, 4)\n",
    "\n",
    "print(some_tensor)\n",
    "\n",
    "print(f\"Shape of tensor: {some_tensor.shape}\")\n",
    "print(f\"Datatype of tensor: {some_tensor.dtype}\")\n",
    "print(f\"Device tensor is stored on: {some_tensor.device}\")"
   ]
  },
  {
   "cell_type": "code",
   "execution_count": 35,
   "id": "61c4525c",
   "metadata": {},
   "outputs": [
    {
     "data": {
      "text/plain": [
       "tensor([10, 20, 30])"
      ]
     },
     "execution_count": 35,
     "metadata": {},
     "output_type": "execute_result"
    }
   ],
   "source": [
    "tensor = torch.tensor([1,2,3])\n",
    "tensor + 10\n",
    "tensor * 10"
   ]
  }
 ],
 "metadata": {
  "kernelspec": {
   "display_name": ".venv",
   "language": "python",
   "name": "python3"
  },
  "language_info": {
   "codemirror_mode": {
    "name": "ipython",
    "version": 3
   },
   "file_extension": ".py",
   "mimetype": "text/x-python",
   "name": "python",
   "nbconvert_exporter": "python",
   "pygments_lexer": "ipython3",
   "version": "3.12.3"
  }
 },
 "nbformat": 4,
 "nbformat_minor": 5
}
